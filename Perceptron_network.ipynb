{
 "cells": [
  {
   "cell_type": "code",
   "execution_count": 53,
   "metadata": {},
   "outputs": [],
   "source": [
    "import pandas as pd\n",
    "import numpy as np\n",
    "\n",
    "data=[[0.08,0.72,1.0],\n",
    "      [0.01,1.00,0.0],\n",
    "      [0.26,0.58,1.0],\n",
    "      [0.35,0.95,0.0],\n",
    "      [0.45,0.15,1.0],\n",
    "      [0.60,0.30,1.0],\n",
    "      [0.70,0.65,0.0],\n",
    "      [0.92,0.45,0.0]]\n",
    "data = np.array(data)\n",
    "weights=[0.20, 1.00,-1.00]\n",
    "bias = 0.20"
   ]
  },
  {
   "cell_type": "code",
   "execution_count": 81,
   "metadata": {},
   "outputs": [],
   "source": [
    "def activation(threshold, total):\n",
    "    return 1.0 if total >= threshold else 0.0"
   ]
  },
  {
   "cell_type": "code",
   "execution_count": 82,
   "metadata": {},
   "outputs": [],
   "source": [
    "def predict(data, weights, threshold = 0.0):\n",
    "    predict_activation = 0.0\n",
    "\n",
    "    for sample, weight in zip(data, weights):\n",
    "        predict_activation += sample * weight\n",
    "        \n",
    "    return activation(threshold, predict_activation)"
   ]
  },
  {
   "cell_type": "code",
   "execution_count": 89,
   "metadata": {},
   "outputs": [],
   "source": [
    "def accuracy(data, weights, threshold = 0.0):\n",
    "    correct_pred=0.0\n",
    "    temp=[]\n",
    "        \n",
    "    for i in range(len(data)):\n",
    "        pred=predict(data[i][:-1], weights)\n",
    "        temp.append(pred)\n",
    "        \n",
    "        if pred==data[i][-1]:\n",
    "            correct_pred += 1.0\n",
    "            \n",
    "    return correct_pred/float(len(data))"
   ]
  },
  {
   "cell_type": "code",
   "execution_count": 96,
   "metadata": {},
   "outputs": [],
   "source": [
    "def train(data, weights, epochs=10, rate = 1.0, stop=True):\n",
    "\n",
    "    for epoch in range(epochs):\n",
    "        print(\"Epoch: \" + str(epoch))\n",
    "        accu = accuracy(data, weights)\n",
    "        print(\"Weights: \", str(weights))\n",
    "        \n",
    "        if accu == 1.0 and stop:\n",
    "            print(\"Accuracy equals to 1 - train funtion stoped\")\n",
    "            break\n",
    "            \n",
    "        for i in range(len(data)):\n",
    "            prediction=predict(data[i][:-1], weights)\n",
    "            error = data[i][-1]-prediction\n",
    "      \n",
    "            for j in range (len(weights)):\n",
    "                weights[j]=weights[j]+(rate * error * data[i][j])\n",
    "                                \n",
    "    return weights"
   ]
  },
  {
   "cell_type": "code",
   "execution_count": 97,
   "metadata": {},
   "outputs": [
    {
     "name": "stdout",
     "output_type": "stream",
     "text": [
      "Epoch: 0\n",
      "Weights:  [0.2, 1.0, -1.0]\n",
      "Epoch: 1\n",
      "Weights:  [0.19000000000000006, -1.15, 1.0]\n",
      "Epoch: 2\n",
      "Weights:  [-0.06999999999999984, -1.2999999999999998, 4.0]\n",
      "Epoch: 3\n",
      "Weights:  [0.27000000000000024, -1.15, 8.0]\n",
      "Epoch: 4\n",
      "Weights:  [0.010000000000000453, -1.2999999999999998, 11.0]\n",
      "Epoch: 5\n",
      "Weights:  [-0.46999999999999953, -1.2499999999999998, 14.0]\n",
      "Epoch: 6\n",
      "Weights:  [-0.12999999999999945, -1.0999999999999999, 18.0]\n",
      "Epoch: 7\n",
      "Weights:  [-0.6099999999999994, -1.0499999999999998, 21.0]\n",
      "Epoch: 8\n",
      "Weights:  [-0.2699999999999994, -0.8999999999999999, 25.0]\n",
      "Epoch: 9\n",
      "Weights:  [0.07000000000000073, -0.75, 29.0]\n"
     ]
    },
    {
     "data": {
      "text/plain": [
       "[0.1500000000000008, -1.1800000000000002, 32.0]"
      ]
     },
     "execution_count": 97,
     "metadata": {},
     "output_type": "execute_result"
    }
   ],
   "source": [
    "data=[[0.08,0.72,1.0],\n",
    "      [0.01,1.00,0.0],\n",
    "      [0.26,0.58,1.0],\n",
    "      [0.35,0.95,0.0],\n",
    "      [0.45,0.15,1.0],\n",
    "      [0.60,0.30,1.0],\n",
    "      [0.70,0.65,0.0],\n",
    "      [0.92,0.45,0.0]]\n",
    "data = np.array(data)\n",
    "weights=[0.20, 1.00,-1.00]\n",
    "bias = 0.20\n",
    "\n",
    "train(data, weights, epochs=10)"
   ]
  },
  {
   "cell_type": "code",
   "execution_count": null,
   "metadata": {},
   "outputs": [],
   "source": []
  }
 ],
 "metadata": {
  "kernelspec": {
   "display_name": "Python 3",
   "language": "python",
   "name": "python3"
  },
  "language_info": {
   "codemirror_mode": {
    "name": "ipython",
    "version": 3
   },
   "file_extension": ".py",
   "mimetype": "text/x-python",
   "name": "python",
   "nbconvert_exporter": "python",
   "pygments_lexer": "ipython3",
   "version": "3.8.5"
  }
 },
 "nbformat": 4,
 "nbformat_minor": 4
}
